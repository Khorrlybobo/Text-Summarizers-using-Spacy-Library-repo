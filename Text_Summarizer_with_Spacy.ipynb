{
  "nbformat": 4,
  "nbformat_minor": 0,
  "metadata": {
    "colab": {
      "provenance": [],
      "authorship_tag": "ABX9TyP7Cdh6OoF6gQjJDSs5djdY",
      "include_colab_link": true
    },
    "kernelspec": {
      "name": "python3",
      "display_name": "Python 3"
    },
    "language_info": {
      "name": "python"
    }
  },
  "cells": [
    {
      "cell_type": "markdown",
      "metadata": {
        "id": "view-in-github",
        "colab_type": "text"
      },
      "source": [
        "<a href=\"https://colab.research.google.com/github/Khorrlybobo/Text-Summarizers-using-Spacy-Library-repo/blob/main/Text_Summarizer_with_Spacy.ipynb\" target=\"_parent\"><img src=\"https://colab.research.google.com/assets/colab-badge.svg\" alt=\"Open In Colab\"/></a>"
      ]
    },
    {
      "cell_type": "code",
      "execution_count": null,
      "metadata": {
        "id": "gyh23HCUuoco"
      },
      "outputs": [],
      "source": [
        "text = \"\"\"\n",
        "Your access to and use of the Services is subject to these Terms and all applicable laws and regulations. You may not:\n",
        "\n",
        "access or use the Services if you are not fully able and legally competent to agree to these Terms;\n",
        "make unauthorised copies, modify, adapt, translate, reverse engineer, disassemble, decompile or create any derivative works of the Services or any content included therein, including any files, tables or documentation (or any portion thereof) or determine or attempt to determine any source code, algorithms, methods or techniques embodied by the Services or any derivative works thereof;\n",
        "distribute, license, transfer, or sell, in whole or in part, any of the Services or any derivative works thereof;\n",
        "market, rent or lease the Services for a fee or charge, or use the Services to advertise or perform any commercial solicitation;\n",
        "use the Services, without our express written consent, for any commercial or unauthorized purpose, including communicating or facilitating any commercial advertisement or solicitation or spamming;\n",
        "interfere with or attempt to interfere with the proper working of the Services, disrupt our website or any networks connected to the Services, or bypass any measures we may use to prevent or restrict access to the Services;\n",
        "incorporate the Services or any portion thereof into any other program or product. In such case, we reserve the right to refuse service, terminate accounts or limit access to the Services in our sole discretion;\n",
        "use automated scripts to collect information from or otherwise interact with the Services;\n",
        "impersonate any person or entity, or falsely state or otherwise misrepresent you or your affiliation with any person or entity, including giving the impression that any content you upload, post, transmit, distribute or otherwise make available emanates from the Services;\n",
        "intimidate or harass another, or promote sexually explicit material, violence or discrimination based on race, sex, religion, nationality, disability, sexual orientation or age;\n",
        "use or attempt to use another’s account, service or system without authorisation from TikTok, or create a false identity on the Services;\n",
        "use the Services in a manner that may create a conflict of interest or undermine the purposes of the Services, such as trading reviews with other users or writing or soliciting fake reviews;\n",
        "use the Services to upload, transmit, distribute, store or otherwise make available in any way: files that contain viruses, trojans, worms, logic bombs or other material that is malicious or technologically harmful; any unsolicited or unauthorised advertising, solicitations, promotional materials, “junk mail,” “spam,” “chain letters,” “pyramid schemes,” or any other prohibited form of solicitation; any private information of any third party, including addresses, phone numbers, email addresses, number and feature in the personal identity document (e.g., National Insurance numbers, passport numbers) or credit card numbers; any material which does or may infringe any copyright, trade mark or other intellectual property or privacy rights of any other person; any material which is defamatory of any person, obscene, offensive, pornographic, hateful or inflammatory; any material that would constitute, encourage or provide instructions for a criminal offence, dangerous activities or self-harm; any material that is deliberately designed to provoke or antagonise people, especially trolling and bullying, or is intended to harass, harm, hurt, scare, distress, embarrass or upset people; any material that contains a threat of any kind, including threats of physical violence; any material that is racist or discriminatory, including discrimination on the basis of someone’s race, religion, age, gender, disability or sexuality;\n",
        "any answers, responses, comments, opinions, analysis or recommendations that you are not properly licensed or otherwise qualified to provide; or\n",
        "material that, in the sole judgment of TikTok, is objectionable or which restricts or inhibits any other person from using the Services, or which may expose TikTok, the Services or its users to any harm or liability of any type.\n",
        "In addition to the above, your access to and use of the Services must, at all times, be compliant with our Community Guidelines.\n",
        "\n",
        "We reserve the right, at any time and without prior notice, to remove or disable access to content at our discretion for any reason or no reason. Some of the reasons we may remove or disable access to content may include finding the content objectionable, in violation of these Terms or our Community Guidelines, or otherwise harmful to the Services or our users. Our automated systems analyze your content to provide you personally relevant product features, such as customized search results, tailored advertising, and spam and malware detection. This analysis occurs as the content is sent, received, and when it is stored.\n",
        "\"\"\"\n"
      ]
    },
    {
      "cell_type": "code",
      "source": [
        "!pip install -U spacy\n",
        "!python -m spacy download en_core_web_sm\n"
      ],
      "metadata": {
        "colab": {
          "base_uri": "https://localhost:8080/"
        },
        "id": "Pk5HyZ0nu5WI",
        "outputId": "72dddcd5-fef1-4757-94d6-bc78f66a882a"
      },
      "execution_count": null,
      "outputs": [
        {
          "output_type": "stream",
          "name": "stdout",
          "text": [
            "Looking in indexes: https://pypi.org/simple, https://us-python.pkg.dev/colab-wheels/public/simple/\n",
            "Requirement already satisfied: spacy in /usr/local/lib/python3.8/dist-packages (3.4.4)\n",
            "Collecting spacy\n",
            "  Downloading spacy-3.5.0-cp38-cp38-manylinux_2_17_x86_64.manylinux2014_x86_64.whl (6.7 MB)\n",
            "\u001b[2K     \u001b[90m━━━━━━━━━━━━━━━━━━━━━━━━━━━━━━━━━━━━━━━━\u001b[0m \u001b[32m6.7/6.7 MB\u001b[0m \u001b[31m48.6 MB/s\u001b[0m eta \u001b[36m0:00:00\u001b[0m\n",
            "\u001b[?25hRequirement already satisfied: murmurhash<1.1.0,>=0.28.0 in /usr/local/lib/python3.8/dist-packages (from spacy) (1.0.9)\n",
            "Requirement already satisfied: spacy-legacy<3.1.0,>=3.0.11 in /usr/local/lib/python3.8/dist-packages (from spacy) (3.0.11)\n",
            "Requirement already satisfied: langcodes<4.0.0,>=3.2.0 in /usr/local/lib/python3.8/dist-packages (from spacy) (3.3.0)\n",
            "Requirement already satisfied: jinja2 in /usr/local/lib/python3.8/dist-packages (from spacy) (2.11.3)\n",
            "Requirement already satisfied: catalogue<2.1.0,>=2.0.6 in /usr/local/lib/python3.8/dist-packages (from spacy) (2.0.8)\n",
            "Requirement already satisfied: typer<0.8.0,>=0.3.0 in /usr/local/lib/python3.8/dist-packages (from spacy) (0.7.0)\n",
            "Requirement already satisfied: pathy>=0.10.0 in /usr/local/lib/python3.8/dist-packages (from spacy) (0.10.1)\n",
            "Requirement already satisfied: spacy-loggers<2.0.0,>=1.0.0 in /usr/local/lib/python3.8/dist-packages (from spacy) (1.0.4)\n",
            "Requirement already satisfied: thinc<8.2.0,>=8.1.0 in /usr/local/lib/python3.8/dist-packages (from spacy) (8.1.6)\n",
            "Requirement already satisfied: pydantic!=1.8,!=1.8.1,<1.11.0,>=1.7.4 in /usr/local/lib/python3.8/dist-packages (from spacy) (1.10.4)\n",
            "Requirement already satisfied: cymem<2.1.0,>=2.0.2 in /usr/local/lib/python3.8/dist-packages (from spacy) (2.0.7)\n",
            "Requirement already satisfied: smart-open<7.0.0,>=5.2.1 in /usr/local/lib/python3.8/dist-packages (from spacy) (6.3.0)\n",
            "Requirement already satisfied: setuptools in /usr/local/lib/python3.8/dist-packages (from spacy) (57.4.0)\n",
            "Requirement already satisfied: preshed<3.1.0,>=3.0.2 in /usr/local/lib/python3.8/dist-packages (from spacy) (3.0.8)\n",
            "Requirement already satisfied: wasabi<1.2.0,>=0.9.1 in /usr/local/lib/python3.8/dist-packages (from spacy) (0.10.1)\n",
            "Requirement already satisfied: srsly<3.0.0,>=2.4.3 in /usr/local/lib/python3.8/dist-packages (from spacy) (2.4.5)\n",
            "Requirement already satisfied: numpy>=1.15.0 in /usr/local/lib/python3.8/dist-packages (from spacy) (1.21.6)\n",
            "Requirement already satisfied: requests<3.0.0,>=2.13.0 in /usr/local/lib/python3.8/dist-packages (from spacy) (2.25.1)\n",
            "Requirement already satisfied: packaging>=20.0 in /usr/local/lib/python3.8/dist-packages (from spacy) (21.3)\n",
            "Requirement already satisfied: tqdm<5.0.0,>=4.38.0 in /usr/local/lib/python3.8/dist-packages (from spacy) (4.64.1)\n",
            "Requirement already satisfied: pyparsing!=3.0.5,>=2.0.2 in /usr/local/lib/python3.8/dist-packages (from packaging>=20.0->spacy) (3.0.9)\n",
            "Requirement already satisfied: typing-extensions>=4.2.0 in /usr/local/lib/python3.8/dist-packages (from pydantic!=1.8,!=1.8.1,<1.11.0,>=1.7.4->spacy) (4.4.0)\n",
            "Requirement already satisfied: certifi>=2017.4.17 in /usr/local/lib/python3.8/dist-packages (from requests<3.0.0,>=2.13.0->spacy) (2022.12.7)\n",
            "Requirement already satisfied: idna<3,>=2.5 in /usr/local/lib/python3.8/dist-packages (from requests<3.0.0,>=2.13.0->spacy) (2.10)\n",
            "Requirement already satisfied: urllib3<1.27,>=1.21.1 in /usr/local/lib/python3.8/dist-packages (from requests<3.0.0,>=2.13.0->spacy) (1.24.3)\n",
            "Requirement already satisfied: chardet<5,>=3.0.2 in /usr/local/lib/python3.8/dist-packages (from requests<3.0.0,>=2.13.0->spacy) (4.0.0)\n",
            "Requirement already satisfied: blis<0.8.0,>=0.7.8 in /usr/local/lib/python3.8/dist-packages (from thinc<8.2.0,>=8.1.0->spacy) (0.7.9)\n",
            "Requirement already satisfied: confection<1.0.0,>=0.0.1 in /usr/local/lib/python3.8/dist-packages (from thinc<8.2.0,>=8.1.0->spacy) (0.0.3)\n",
            "Requirement already satisfied: click<9.0.0,>=7.1.1 in /usr/local/lib/python3.8/dist-packages (from typer<0.8.0,>=0.3.0->spacy) (7.1.2)\n",
            "Requirement already satisfied: MarkupSafe>=0.23 in /usr/local/lib/python3.8/dist-packages (from jinja2->spacy) (2.0.1)\n",
            "Installing collected packages: spacy\n",
            "  Attempting uninstall: spacy\n",
            "    Found existing installation: spacy 3.4.4\n",
            "    Uninstalling spacy-3.4.4:\n",
            "      Successfully uninstalled spacy-3.4.4\n",
            "\u001b[31mERROR: pip's dependency resolver does not currently take into account all the packages that are installed. This behaviour is the source of the following dependency conflicts.\n",
            "en-core-web-sm 3.4.1 requires spacy<3.5.0,>=3.4.0, but you have spacy 3.5.0 which is incompatible.\u001b[0m\u001b[31m\n",
            "\u001b[0mSuccessfully installed spacy-3.5.0\n",
            "/usr/local/lib/python3.8/dist-packages/torch/cuda/__init__.py:497: UserWarning: Can't initialize NVML\n",
            "  warnings.warn(\"Can't initialize NVML\")\n",
            "2023-01-28 14:16:49.938605: E tensorflow/stream_executor/cuda/cuda_driver.cc:271] failed call to cuInit: CUDA_ERROR_NO_DEVICE: no CUDA-capable device is detected\n",
            "Looking in indexes: https://pypi.org/simple, https://us-python.pkg.dev/colab-wheels/public/simple/\n",
            "Collecting en-core-web-sm==3.5.0\n",
            "  Downloading https://github.com/explosion/spacy-models/releases/download/en_core_web_sm-3.5.0/en_core_web_sm-3.5.0-py3-none-any.whl (12.8 MB)\n",
            "\u001b[2K     \u001b[90m━━━━━━━━━━━━━━━━━━━━━━━━━━━━━━━━━━━━━━━━\u001b[0m \u001b[32m12.8/12.8 MB\u001b[0m \u001b[31m45.7 MB/s\u001b[0m eta \u001b[36m0:00:00\u001b[0m\n",
            "\u001b[?25hRequirement already satisfied: spacy<3.6.0,>=3.5.0 in /usr/local/lib/python3.8/dist-packages (from en-core-web-sm==3.5.0) (3.5.0)\n",
            "Requirement already satisfied: langcodes<4.0.0,>=3.2.0 in /usr/local/lib/python3.8/dist-packages (from spacy<3.6.0,>=3.5.0->en-core-web-sm==3.5.0) (3.3.0)\n",
            "Requirement already satisfied: catalogue<2.1.0,>=2.0.6 in /usr/local/lib/python3.8/dist-packages (from spacy<3.6.0,>=3.5.0->en-core-web-sm==3.5.0) (2.0.8)\n",
            "Requirement already satisfied: packaging>=20.0 in /usr/local/lib/python3.8/dist-packages (from spacy<3.6.0,>=3.5.0->en-core-web-sm==3.5.0) (21.3)\n",
            "Requirement already satisfied: spacy-legacy<3.1.0,>=3.0.11 in /usr/local/lib/python3.8/dist-packages (from spacy<3.6.0,>=3.5.0->en-core-web-sm==3.5.0) (3.0.11)\n",
            "Requirement already satisfied: numpy>=1.15.0 in /usr/local/lib/python3.8/dist-packages (from spacy<3.6.0,>=3.5.0->en-core-web-sm==3.5.0) (1.21.6)\n",
            "Requirement already satisfied: cymem<2.1.0,>=2.0.2 in /usr/local/lib/python3.8/dist-packages (from spacy<3.6.0,>=3.5.0->en-core-web-sm==3.5.0) (2.0.7)\n",
            "Requirement already satisfied: wasabi<1.2.0,>=0.9.1 in /usr/local/lib/python3.8/dist-packages (from spacy<3.6.0,>=3.5.0->en-core-web-sm==3.5.0) (0.10.1)\n",
            "Requirement already satisfied: jinja2 in /usr/local/lib/python3.8/dist-packages (from spacy<3.6.0,>=3.5.0->en-core-web-sm==3.5.0) (2.11.3)\n",
            "Requirement already satisfied: smart-open<7.0.0,>=5.2.1 in /usr/local/lib/python3.8/dist-packages (from spacy<3.6.0,>=3.5.0->en-core-web-sm==3.5.0) (6.3.0)\n",
            "Requirement already satisfied: pathy>=0.10.0 in /usr/local/lib/python3.8/dist-packages (from spacy<3.6.0,>=3.5.0->en-core-web-sm==3.5.0) (0.10.1)\n",
            "Requirement already satisfied: thinc<8.2.0,>=8.1.0 in /usr/local/lib/python3.8/dist-packages (from spacy<3.6.0,>=3.5.0->en-core-web-sm==3.5.0) (8.1.6)\n",
            "Requirement already satisfied: pydantic!=1.8,!=1.8.1,<1.11.0,>=1.7.4 in /usr/local/lib/python3.8/dist-packages (from spacy<3.6.0,>=3.5.0->en-core-web-sm==3.5.0) (1.10.4)\n",
            "Requirement already satisfied: spacy-loggers<2.0.0,>=1.0.0 in /usr/local/lib/python3.8/dist-packages (from spacy<3.6.0,>=3.5.0->en-core-web-sm==3.5.0) (1.0.4)\n",
            "Requirement already satisfied: srsly<3.0.0,>=2.4.3 in /usr/local/lib/python3.8/dist-packages (from spacy<3.6.0,>=3.5.0->en-core-web-sm==3.5.0) (2.4.5)\n",
            "Requirement already satisfied: tqdm<5.0.0,>=4.38.0 in /usr/local/lib/python3.8/dist-packages (from spacy<3.6.0,>=3.5.0->en-core-web-sm==3.5.0) (4.64.1)\n",
            "Requirement already satisfied: requests<3.0.0,>=2.13.0 in /usr/local/lib/python3.8/dist-packages (from spacy<3.6.0,>=3.5.0->en-core-web-sm==3.5.0) (2.25.1)\n",
            "Requirement already satisfied: setuptools in /usr/local/lib/python3.8/dist-packages (from spacy<3.6.0,>=3.5.0->en-core-web-sm==3.5.0) (57.4.0)\n",
            "Requirement already satisfied: murmurhash<1.1.0,>=0.28.0 in /usr/local/lib/python3.8/dist-packages (from spacy<3.6.0,>=3.5.0->en-core-web-sm==3.5.0) (1.0.9)\n",
            "Requirement already satisfied: typer<0.8.0,>=0.3.0 in /usr/local/lib/python3.8/dist-packages (from spacy<3.6.0,>=3.5.0->en-core-web-sm==3.5.0) (0.7.0)\n",
            "Requirement already satisfied: preshed<3.1.0,>=3.0.2 in /usr/local/lib/python3.8/dist-packages (from spacy<3.6.0,>=3.5.0->en-core-web-sm==3.5.0) (3.0.8)\n",
            "Requirement already satisfied: pyparsing!=3.0.5,>=2.0.2 in /usr/local/lib/python3.8/dist-packages (from packaging>=20.0->spacy<3.6.0,>=3.5.0->en-core-web-sm==3.5.0) (3.0.9)\n",
            "Requirement already satisfied: typing-extensions>=4.2.0 in /usr/local/lib/python3.8/dist-packages (from pydantic!=1.8,!=1.8.1,<1.11.0,>=1.7.4->spacy<3.6.0,>=3.5.0->en-core-web-sm==3.5.0) (4.4.0)\n",
            "Requirement already satisfied: urllib3<1.27,>=1.21.1 in /usr/local/lib/python3.8/dist-packages (from requests<3.0.0,>=2.13.0->spacy<3.6.0,>=3.5.0->en-core-web-sm==3.5.0) (1.24.3)\n",
            "Requirement already satisfied: certifi>=2017.4.17 in /usr/local/lib/python3.8/dist-packages (from requests<3.0.0,>=2.13.0->spacy<3.6.0,>=3.5.0->en-core-web-sm==3.5.0) (2022.12.7)\n",
            "Requirement already satisfied: idna<3,>=2.5 in /usr/local/lib/python3.8/dist-packages (from requests<3.0.0,>=2.13.0->spacy<3.6.0,>=3.5.0->en-core-web-sm==3.5.0) (2.10)\n",
            "Requirement already satisfied: chardet<5,>=3.0.2 in /usr/local/lib/python3.8/dist-packages (from requests<3.0.0,>=2.13.0->spacy<3.6.0,>=3.5.0->en-core-web-sm==3.5.0) (4.0.0)\n",
            "Requirement already satisfied: confection<1.0.0,>=0.0.1 in /usr/local/lib/python3.8/dist-packages (from thinc<8.2.0,>=8.1.0->spacy<3.6.0,>=3.5.0->en-core-web-sm==3.5.0) (0.0.3)\n",
            "Requirement already satisfied: blis<0.8.0,>=0.7.8 in /usr/local/lib/python3.8/dist-packages (from thinc<8.2.0,>=8.1.0->spacy<3.6.0,>=3.5.0->en-core-web-sm==3.5.0) (0.7.9)\n",
            "Requirement already satisfied: click<9.0.0,>=7.1.1 in /usr/local/lib/python3.8/dist-packages (from typer<0.8.0,>=0.3.0->spacy<3.6.0,>=3.5.0->en-core-web-sm==3.5.0) (7.1.2)\n",
            "Requirement already satisfied: MarkupSafe>=0.23 in /usr/local/lib/python3.8/dist-packages (from jinja2->spacy<3.6.0,>=3.5.0->en-core-web-sm==3.5.0) (2.0.1)\n",
            "Installing collected packages: en-core-web-sm\n",
            "  Attempting uninstall: en-core-web-sm\n",
            "    Found existing installation: en-core-web-sm 3.4.1\n",
            "    Uninstalling en-core-web-sm-3.4.1:\n",
            "      Successfully uninstalled en-core-web-sm-3.4.1\n",
            "Successfully installed en-core-web-sm-3.5.0\n",
            "\u001b[38;5;2m✔ Download and installation successful\u001b[0m\n",
            "You can now load the package via spacy.load('en_core_web_sm')\n"
          ]
        }
      ]
    },
    {
      "cell_type": "code",
      "source": [
        "import spacy \n",
        "from spacy.lang.en.stop_words import STOP_WORDS\n",
        "from string import punctuation"
      ],
      "metadata": {
        "id": "fUD6rji5vdk2"
      },
      "execution_count": null,
      "outputs": []
    },
    {
      "cell_type": "code",
      "source": [
        "stopwords = list(STOP_WORDS)"
      ],
      "metadata": {
        "id": "Ytx0Z2gdvxS0"
      },
      "execution_count": null,
      "outputs": []
    },
    {
      "cell_type": "code",
      "source": [
        "nlp = spacy.load('en_core_web_sm')"
      ],
      "metadata": {
        "id": "4tlUSWOyv-0Q"
      },
      "execution_count": null,
      "outputs": []
    },
    {
      "cell_type": "code",
      "source": [
        "doc = nlp(text)"
      ],
      "metadata": {
        "id": "txNpHP-HwJFC"
      },
      "execution_count": null,
      "outputs": []
    },
    {
      "cell_type": "code",
      "source": [
        "tokens = [token.text for token in doc]\n",
        "print(tokens)"
      ],
      "metadata": {
        "colab": {
          "base_uri": "https://localhost:8080/"
        },
        "id": "dOaXksg3wQIT",
        "outputId": "ac607098-bc6b-4883-c214-e5cbe0f017a7"
      },
      "execution_count": null,
      "outputs": [
        {
          "output_type": "stream",
          "name": "stdout",
          "text": [
            "['\\n', 'Your', 'access', 'to', 'and', 'use', 'of', 'the', 'Services', 'is', 'subject', 'to', 'these', 'Terms', 'and', 'all', 'applicable', 'laws', 'and', 'regulations', '.', 'You', 'may', 'not', ':', '\\n\\n', 'access', 'or', 'use', 'the', 'Services', 'if', 'you', 'are', 'not', 'fully', 'able', 'and', 'legally', 'competent', 'to', 'agree', 'to', 'these', 'Terms', ';', '\\n', 'make', 'unauthorised', 'copies', ',', 'modify', ',', 'adapt', ',', 'translate', ',', 'reverse', 'engineer', ',', 'disassemble', ',', 'decompile', 'or', 'create', 'any', 'derivative', 'works', 'of', 'the', 'Services', 'or', 'any', 'content', 'included', 'therein', ',', 'including', 'any', 'files', ',', 'tables', 'or', 'documentation', '(', 'or', 'any', 'portion', 'thereof', ')', 'or', 'determine', 'or', 'attempt', 'to', 'determine', 'any', 'source', 'code', ',', 'algorithms', ',', 'methods', 'or', 'techniques', 'embodied', 'by', 'the', 'Services', 'or', 'any', 'derivative', 'works', 'thereof', ';', '\\n', 'distribute', ',', 'license', ',', 'transfer', ',', 'or', 'sell', ',', 'in', 'whole', 'or', 'in', 'part', ',', 'any', 'of', 'the', 'Services', 'or', 'any', 'derivative', 'works', 'thereof', ';', '\\n', 'market', ',', 'rent', 'or', 'lease', 'the', 'Services', 'for', 'a', 'fee', 'or', 'charge', ',', 'or', 'use', 'the', 'Services', 'to', 'advertise', 'or', 'perform', 'any', 'commercial', 'solicitation', ';', '\\n', 'use', 'the', 'Services', ',', 'without', 'our', 'express', 'written', 'consent', ',', 'for', 'any', 'commercial', 'or', 'unauthorized', 'purpose', ',', 'including', 'communicating', 'or', 'facilitating', 'any', 'commercial', 'advertisement', 'or', 'solicitation', 'or', 'spamming', ';', '\\n', 'interfere', 'with', 'or', 'attempt', 'to', 'interfere', 'with', 'the', 'proper', 'working', 'of', 'the', 'Services', ',', 'disrupt', 'our', 'website', 'or', 'any', 'networks', 'connected', 'to', 'the', 'Services', ',', 'or', 'bypass', 'any', 'measures', 'we', 'may', 'use', 'to', 'prevent', 'or', 'restrict', 'access', 'to', 'the', 'Services', ';', '\\n', 'incorporate', 'the', 'Services', 'or', 'any', 'portion', 'thereof', 'into', 'any', 'other', 'program', 'or', 'product', '.', 'In', 'such', 'case', ',', 'we', 'reserve', 'the', 'right', 'to', 'refuse', 'service', ',', 'terminate', 'accounts', 'or', 'limit', 'access', 'to', 'the', 'Services', 'in', 'our', 'sole', 'discretion', ';', '\\n', 'use', 'automated', 'scripts', 'to', 'collect', 'information', 'from', 'or', 'otherwise', 'interact', 'with', 'the', 'Services', ';', '\\n', 'impersonate', 'any', 'person', 'or', 'entity', ',', 'or', 'falsely', 'state', 'or', 'otherwise', 'misrepresent', 'you', 'or', 'your', 'affiliation', 'with', 'any', 'person', 'or', 'entity', ',', 'including', 'giving', 'the', 'impression', 'that', 'any', 'content', 'you', 'upload', ',', 'post', ',', 'transmit', ',', 'distribute', 'or', 'otherwise', 'make', 'available', 'emanates', 'from', 'the', 'Services', ';', '\\n', 'intimidate', 'or', 'harass', 'another', ',', 'or', 'promote', 'sexually', 'explicit', 'material', ',', 'violence', 'or', 'discrimination', 'based', 'on', 'race', ',', 'sex', ',', 'religion', ',', 'nationality', ',', 'disability', ',', 'sexual', 'orientation', 'or', 'age', ';', '\\n', 'use', 'or', 'attempt', 'to', 'use', 'another', '’s', 'account', ',', 'service', 'or', 'system', 'without', 'authorisation', 'from', 'TikTok', ',', 'or', 'create', 'a', 'false', 'identity', 'on', 'the', 'Services', ';', '\\n', 'use', 'the', 'Services', 'in', 'a', 'manner', 'that', 'may', 'create', 'a', 'conflict', 'of', 'interest', 'or', 'undermine', 'the', 'purposes', 'of', 'the', 'Services', ',', 'such', 'as', 'trading', 'reviews', 'with', 'other', 'users', 'or', 'writing', 'or', 'soliciting', 'fake', 'reviews', ';', '\\n', 'use', 'the', 'Services', 'to', 'upload', ',', 'transmit', ',', 'distribute', ',', 'store', 'or', 'otherwise', 'make', 'available', 'in', 'any', 'way', ':', 'files', 'that', 'contain', 'viruses', ',', 'trojans', ',', 'worms', ',', 'logic', 'bombs', 'or', 'other', 'material', 'that', 'is', 'malicious', 'or', 'technologically', 'harmful', ';', 'any', 'unsolicited', 'or', 'unauthorised', 'advertising', ',', 'solicitations', ',', 'promotional', 'materials', ',', '“', 'junk', 'mail', ',', '”', '“', 'spam', ',', '”', '“', 'chain', 'letters', ',', '”', '“', 'pyramid', 'schemes', ',', '”', 'or', 'any', 'other', 'prohibited', 'form', 'of', 'solicitation', ';', 'any', 'private', 'information', 'of', 'any', 'third', 'party', ',', 'including', 'addresses', ',', 'phone', 'numbers', ',', 'email', 'addresses', ',', 'number', 'and', 'feature', 'in', 'the', 'personal', 'identity', 'document', '(', 'e.g.', ',', 'National', 'Insurance', 'numbers', ',', 'passport', 'numbers', ')', 'or', 'credit', 'card', 'numbers', ';', 'any', 'material', 'which', 'does', 'or', 'may', 'infringe', 'any', 'copyright', ',', 'trade', 'mark', 'or', 'other', 'intellectual', 'property', 'or', 'privacy', 'rights', 'of', 'any', 'other', 'person', ';', 'any', 'material', 'which', 'is', 'defamatory', 'of', 'any', 'person', ',', 'obscene', ',', 'offensive', ',', 'pornographic', ',', 'hateful', 'or', 'inflammatory', ';', 'any', 'material', 'that', 'would', 'constitute', ',', 'encourage', 'or', 'provide', 'instructions', 'for', 'a', 'criminal', 'offence', ',', 'dangerous', 'activities', 'or', 'self', '-', 'harm', ';', 'any', 'material', 'that', 'is', 'deliberately', 'designed', 'to', 'provoke', 'or', 'antagonise', 'people', ',', 'especially', 'trolling', 'and', 'bullying', ',', 'or', 'is', 'intended', 'to', 'harass', ',', 'harm', ',', 'hurt', ',', 'scare', ',', 'distress', ',', 'embarrass', 'or', 'upset', 'people', ';', 'any', 'material', 'that', 'contains', 'a', 'threat', 'of', 'any', 'kind', ',', 'including', 'threats', 'of', 'physical', 'violence', ';', 'any', 'material', 'that', 'is', 'racist', 'or', 'discriminatory', ',', 'including', 'discrimination', 'on', 'the', 'basis', 'of', 'someone', '’s', 'race', ',', 'religion', ',', 'age', ',', 'gender', ',', 'disability', 'or', 'sexuality', ';', '\\n', 'any', 'answers', ',', 'responses', ',', 'comments', ',', 'opinions', ',', 'analysis', 'or', 'recommendations', 'that', 'you', 'are', 'not', 'properly', 'licensed', 'or', 'otherwise', 'qualified', 'to', 'provide', ';', 'or', '\\n', 'material', 'that', ',', 'in', 'the', 'sole', 'judgment', 'of', 'TikTok', ',', 'is', 'objectionable', 'or', 'which', 'restricts', 'or', 'inhibits', 'any', 'other', 'person', 'from', 'using', 'the', 'Services', ',', 'or', 'which', 'may', 'expose', 'TikTok', ',', 'the', 'Services', 'or', 'its', 'users', 'to', 'any', 'harm', 'or', 'liability', 'of', 'any', 'type', '.', '\\n', 'In', 'addition', 'to', 'the', 'above', ',', 'your', 'access', 'to', 'and', 'use', 'of', 'the', 'Services', 'must', ',', 'at', 'all', 'times', ',', 'be', 'compliant', 'with', 'our', 'Community', 'Guidelines', '.', '\\n\\n', 'We', 'reserve', 'the', 'right', ',', 'at', 'any', 'time', 'and', 'without', 'prior', 'notice', ',', 'to', 'remove', 'or', 'disable', 'access', 'to', 'content', 'at', 'our', 'discretion', 'for', 'any', 'reason', 'or', 'no', 'reason', '.', 'Some', 'of', 'the', 'reasons', 'we', 'may', 'remove', 'or', 'disable', 'access', 'to', 'content', 'may', 'include', 'finding', 'the', 'content', 'objectionable', ',', 'in', 'violation', 'of', 'these', 'Terms', 'or', 'our', 'Community', 'Guidelines', ',', 'or', 'otherwise', 'harmful', 'to', 'the', 'Services', 'or', 'our', 'users', '.', 'Our', 'automated', 'systems', 'analyze', 'your', 'content', 'to', 'provide', 'you', 'personally', 'relevant', 'product', 'features', ',', 'such', 'as', 'customized', 'search', 'results', ',', 'tailored', 'advertising', ',', 'and', 'spam', 'and', 'malware', 'detection', '.', 'This', 'analysis', 'occurs', 'as', 'the', 'content', 'is', 'sent', ',', 'received', ',', 'and', 'when', 'it', 'is', 'stored', '.', '\\n']\n"
          ]
        }
      ]
    },
    {
      "cell_type": "code",
      "source": [
        "punctuation = punctuation + '\\n'\n",
        "punctuation"
      ],
      "metadata": {
        "colab": {
          "base_uri": "https://localhost:8080/",
          "height": 35
        },
        "id": "LMV0xC_UwvE4",
        "outputId": "9bb3dfc1-b382-4626-cb0f-5f22baf789b8"
      },
      "execution_count": null,
      "outputs": [
        {
          "output_type": "execute_result",
          "data": {
            "text/plain": [
              "'!\"#$%&\\'()*+,-./:;<=>?@[\\\\]^_`{|}~\\n'"
            ],
            "application/vnd.google.colaboratory.intrinsic+json": {
              "type": "string"
            }
          },
          "metadata": {},
          "execution_count": 8
        }
      ]
    },
    {
      "cell_type": "code",
      "source": [
        "word_frequencies = {}\n",
        "for word in doc:\n",
        "  if word.text.lower() not in stopwords:\n",
        "    if word.text.lower() not in punctuation:\n",
        "      if word.text not in word_frequencies.keys():\n",
        "        word_frequencies[word.text] = 1\n",
        "      else:\n",
        "        word_frequencies[word.text] += 1"
      ],
      "metadata": {
        "id": "i8W_0xpnxGva"
      },
      "execution_count": null,
      "outputs": []
    },
    {
      "cell_type": "code",
      "source": [
        "print(word_frequencies)"
      ],
      "metadata": {
        "colab": {
          "base_uri": "https://localhost:8080/"
        },
        "id": "SkCKT8EKyDjy",
        "outputId": "5f52bc8d-0842-43b0-fdb5-c6c446e379b0"
      },
      "execution_count": null,
      "outputs": [
        {
          "output_type": "stream",
          "name": "stdout",
          "text": [
            "{'access': 7, 'use': 11, 'Services': 23, 'subject': 1, 'Terms': 3, 'applicable': 1, 'laws': 1, 'regulations': 1, '\\n\\n': 2, 'fully': 1, 'able': 1, 'legally': 1, 'competent': 1, 'agree': 1, 'unauthorised': 2, 'copies': 1, 'modify': 1, 'adapt': 1, 'translate': 1, 'reverse': 1, 'engineer': 1, 'disassemble': 1, 'decompile': 1, 'create': 3, 'derivative': 3, 'works': 3, 'content': 7, 'included': 1, 'including': 6, 'files': 2, 'tables': 1, 'documentation': 1, 'portion': 2, 'thereof': 4, 'determine': 2, 'attempt': 3, 'source': 1, 'code': 1, 'algorithms': 1, 'methods': 1, 'techniques': 1, 'embodied': 1, 'distribute': 3, 'license': 1, 'transfer': 1, 'sell': 1, 'market': 1, 'rent': 1, 'lease': 1, 'fee': 1, 'charge': 1, 'advertise': 1, 'perform': 1, 'commercial': 3, 'solicitation': 3, 'express': 1, 'written': 1, 'consent': 1, 'unauthorized': 1, 'purpose': 1, 'communicating': 1, 'facilitating': 1, 'advertisement': 1, 'spamming': 1, 'interfere': 2, 'proper': 1, 'working': 1, 'disrupt': 1, 'website': 1, 'networks': 1, 'connected': 1, 'bypass': 1, 'measures': 1, 'prevent': 1, 'restrict': 1, 'incorporate': 1, 'program': 1, 'product': 2, 'case': 1, 'reserve': 2, 'right': 2, 'refuse': 1, 'service': 2, 'terminate': 1, 'accounts': 1, 'limit': 1, 'sole': 2, 'discretion': 2, 'automated': 2, 'scripts': 1, 'collect': 1, 'information': 2, 'interact': 1, 'impersonate': 1, 'person': 5, 'entity': 2, 'falsely': 1, 'state': 1, 'misrepresent': 1, 'affiliation': 1, 'giving': 1, 'impression': 1, 'upload': 2, 'post': 1, 'transmit': 2, 'available': 2, 'emanates': 1, 'intimidate': 1, 'harass': 2, 'promote': 1, 'sexually': 1, 'explicit': 1, 'material': 9, 'violence': 2, 'discrimination': 2, 'based': 1, 'race': 2, 'sex': 1, 'religion': 2, 'nationality': 1, 'disability': 2, 'sexual': 1, 'orientation': 1, 'age': 2, 'account': 1, 'system': 1, 'authorisation': 1, 'TikTok': 3, 'false': 1, 'identity': 2, 'manner': 1, 'conflict': 1, 'interest': 1, 'undermine': 1, 'purposes': 1, 'trading': 1, 'reviews': 2, 'users': 3, 'writing': 1, 'soliciting': 1, 'fake': 1, 'store': 1, 'way': 1, 'contain': 1, 'viruses': 1, 'trojans': 1, 'worms': 1, 'logic': 1, 'bombs': 1, 'malicious': 1, 'technologically': 1, 'harmful': 2, 'unsolicited': 1, 'advertising': 2, 'solicitations': 1, 'promotional': 1, 'materials': 1, '“': 4, 'junk': 1, 'mail': 1, '”': 4, 'spam': 2, 'chain': 1, 'letters': 1, 'pyramid': 1, 'schemes': 1, 'prohibited': 1, 'form': 1, 'private': 1, 'party': 1, 'addresses': 2, 'phone': 1, 'numbers': 4, 'email': 1, 'number': 1, 'feature': 1, 'personal': 1, 'document': 1, 'e.g.': 1, 'National': 1, 'Insurance': 1, 'passport': 1, 'credit': 1, 'card': 1, 'infringe': 1, 'copyright': 1, 'trade': 1, 'mark': 1, 'intellectual': 1, 'property': 1, 'privacy': 1, 'rights': 1, 'defamatory': 1, 'obscene': 1, 'offensive': 1, 'pornographic': 1, 'hateful': 1, 'inflammatory': 1, 'constitute': 1, 'encourage': 1, 'provide': 3, 'instructions': 1, 'criminal': 1, 'offence': 1, 'dangerous': 1, 'activities': 1, 'self': 1, 'harm': 3, 'deliberately': 1, 'designed': 1, 'provoke': 1, 'antagonise': 1, 'people': 2, 'especially': 1, 'trolling': 1, 'bullying': 1, 'intended': 1, 'hurt': 1, 'scare': 1, 'distress': 1, 'embarrass': 1, 'upset': 1, 'contains': 1, 'threat': 1, 'kind': 1, 'threats': 1, 'physical': 1, 'racist': 1, 'discriminatory': 1, 'basis': 1, 'gender': 1, 'sexuality': 1, 'answers': 1, 'responses': 1, 'comments': 1, 'opinions': 1, 'analysis': 2, 'recommendations': 1, 'properly': 1, 'licensed': 1, 'qualified': 1, 'judgment': 1, 'objectionable': 2, 'restricts': 1, 'inhibits': 1, 'expose': 1, 'liability': 1, 'type': 1, 'addition': 1, 'times': 1, 'compliant': 1, 'Community': 2, 'Guidelines': 2, 'time': 1, 'prior': 1, 'notice': 1, 'remove': 2, 'disable': 2, 'reason': 2, 'reasons': 1, 'include': 1, 'finding': 1, 'violation': 1, 'systems': 1, 'analyze': 1, 'personally': 1, 'relevant': 1, 'features': 1, 'customized': 1, 'search': 1, 'results': 1, 'tailored': 1, 'malware': 1, 'detection': 1, 'occurs': 1, 'sent': 1, 'received': 1, 'stored': 1}\n"
          ]
        }
      ]
    },
    {
      "cell_type": "code",
      "source": [
        "max_frequency = max(word_frequencies.values())"
      ],
      "metadata": {
        "id": "YATHkMLHyJ4z"
      },
      "execution_count": null,
      "outputs": []
    },
    {
      "cell_type": "code",
      "source": [
        "max_frequency"
      ],
      "metadata": {
        "colab": {
          "base_uri": "https://localhost:8080/"
        },
        "id": "d9oKiogvyUiy",
        "outputId": "748dfc20-6a6a-4680-c783-0d0b2f5cac46"
      },
      "execution_count": null,
      "outputs": [
        {
          "output_type": "execute_result",
          "data": {
            "text/plain": [
              "23"
            ]
          },
          "metadata": {},
          "execution_count": 12
        }
      ]
    },
    {
      "cell_type": "code",
      "source": [
        "for word in word_frequencies.keys():\n",
        "  word_frequencies[word] = word_frequencies[word]/max_frequency"
      ],
      "metadata": {
        "id": "CWcpSjGMyZRr"
      },
      "execution_count": null,
      "outputs": []
    },
    {
      "cell_type": "code",
      "source": [
        "print(word_frequencies)"
      ],
      "metadata": {
        "colab": {
          "base_uri": "https://localhost:8080/"
        },
        "id": "LjNZKWlYyrXY",
        "outputId": "d26d972b-7a48-419c-db7c-a4dcf970feff"
      },
      "execution_count": null,
      "outputs": [
        {
          "output_type": "stream",
          "name": "stdout",
          "text": [
            "{'access': 0.30434782608695654, 'use': 0.4782608695652174, 'Services': 1.0, 'subject': 0.043478260869565216, 'Terms': 0.13043478260869565, 'applicable': 0.043478260869565216, 'laws': 0.043478260869565216, 'regulations': 0.043478260869565216, '\\n\\n': 0.08695652173913043, 'fully': 0.043478260869565216, 'able': 0.043478260869565216, 'legally': 0.043478260869565216, 'competent': 0.043478260869565216, 'agree': 0.043478260869565216, 'unauthorised': 0.08695652173913043, 'copies': 0.043478260869565216, 'modify': 0.043478260869565216, 'adapt': 0.043478260869565216, 'translate': 0.043478260869565216, 'reverse': 0.043478260869565216, 'engineer': 0.043478260869565216, 'disassemble': 0.043478260869565216, 'decompile': 0.043478260869565216, 'create': 0.13043478260869565, 'derivative': 0.13043478260869565, 'works': 0.13043478260869565, 'content': 0.30434782608695654, 'included': 0.043478260869565216, 'including': 0.2608695652173913, 'files': 0.08695652173913043, 'tables': 0.043478260869565216, 'documentation': 0.043478260869565216, 'portion': 0.08695652173913043, 'thereof': 0.17391304347826086, 'determine': 0.08695652173913043, 'attempt': 0.13043478260869565, 'source': 0.043478260869565216, 'code': 0.043478260869565216, 'algorithms': 0.043478260869565216, 'methods': 0.043478260869565216, 'techniques': 0.043478260869565216, 'embodied': 0.043478260869565216, 'distribute': 0.13043478260869565, 'license': 0.043478260869565216, 'transfer': 0.043478260869565216, 'sell': 0.043478260869565216, 'market': 0.043478260869565216, 'rent': 0.043478260869565216, 'lease': 0.043478260869565216, 'fee': 0.043478260869565216, 'charge': 0.043478260869565216, 'advertise': 0.043478260869565216, 'perform': 0.043478260869565216, 'commercial': 0.13043478260869565, 'solicitation': 0.13043478260869565, 'express': 0.043478260869565216, 'written': 0.043478260869565216, 'consent': 0.043478260869565216, 'unauthorized': 0.043478260869565216, 'purpose': 0.043478260869565216, 'communicating': 0.043478260869565216, 'facilitating': 0.043478260869565216, 'advertisement': 0.043478260869565216, 'spamming': 0.043478260869565216, 'interfere': 0.08695652173913043, 'proper': 0.043478260869565216, 'working': 0.043478260869565216, 'disrupt': 0.043478260869565216, 'website': 0.043478260869565216, 'networks': 0.043478260869565216, 'connected': 0.043478260869565216, 'bypass': 0.043478260869565216, 'measures': 0.043478260869565216, 'prevent': 0.043478260869565216, 'restrict': 0.043478260869565216, 'incorporate': 0.043478260869565216, 'program': 0.043478260869565216, 'product': 0.08695652173913043, 'case': 0.043478260869565216, 'reserve': 0.08695652173913043, 'right': 0.08695652173913043, 'refuse': 0.043478260869565216, 'service': 0.08695652173913043, 'terminate': 0.043478260869565216, 'accounts': 0.043478260869565216, 'limit': 0.043478260869565216, 'sole': 0.08695652173913043, 'discretion': 0.08695652173913043, 'automated': 0.08695652173913043, 'scripts': 0.043478260869565216, 'collect': 0.043478260869565216, 'information': 0.08695652173913043, 'interact': 0.043478260869565216, 'impersonate': 0.043478260869565216, 'person': 0.21739130434782608, 'entity': 0.08695652173913043, 'falsely': 0.043478260869565216, 'state': 0.043478260869565216, 'misrepresent': 0.043478260869565216, 'affiliation': 0.043478260869565216, 'giving': 0.043478260869565216, 'impression': 0.043478260869565216, 'upload': 0.08695652173913043, 'post': 0.043478260869565216, 'transmit': 0.08695652173913043, 'available': 0.08695652173913043, 'emanates': 0.043478260869565216, 'intimidate': 0.043478260869565216, 'harass': 0.08695652173913043, 'promote': 0.043478260869565216, 'sexually': 0.043478260869565216, 'explicit': 0.043478260869565216, 'material': 0.391304347826087, 'violence': 0.08695652173913043, 'discrimination': 0.08695652173913043, 'based': 0.043478260869565216, 'race': 0.08695652173913043, 'sex': 0.043478260869565216, 'religion': 0.08695652173913043, 'nationality': 0.043478260869565216, 'disability': 0.08695652173913043, 'sexual': 0.043478260869565216, 'orientation': 0.043478260869565216, 'age': 0.08695652173913043, 'account': 0.043478260869565216, 'system': 0.043478260869565216, 'authorisation': 0.043478260869565216, 'TikTok': 0.13043478260869565, 'false': 0.043478260869565216, 'identity': 0.08695652173913043, 'manner': 0.043478260869565216, 'conflict': 0.043478260869565216, 'interest': 0.043478260869565216, 'undermine': 0.043478260869565216, 'purposes': 0.043478260869565216, 'trading': 0.043478260869565216, 'reviews': 0.08695652173913043, 'users': 0.13043478260869565, 'writing': 0.043478260869565216, 'soliciting': 0.043478260869565216, 'fake': 0.043478260869565216, 'store': 0.043478260869565216, 'way': 0.043478260869565216, 'contain': 0.043478260869565216, 'viruses': 0.043478260869565216, 'trojans': 0.043478260869565216, 'worms': 0.043478260869565216, 'logic': 0.043478260869565216, 'bombs': 0.043478260869565216, 'malicious': 0.043478260869565216, 'technologically': 0.043478260869565216, 'harmful': 0.08695652173913043, 'unsolicited': 0.043478260869565216, 'advertising': 0.08695652173913043, 'solicitations': 0.043478260869565216, 'promotional': 0.043478260869565216, 'materials': 0.043478260869565216, '“': 0.17391304347826086, 'junk': 0.043478260869565216, 'mail': 0.043478260869565216, '”': 0.17391304347826086, 'spam': 0.08695652173913043, 'chain': 0.043478260869565216, 'letters': 0.043478260869565216, 'pyramid': 0.043478260869565216, 'schemes': 0.043478260869565216, 'prohibited': 0.043478260869565216, 'form': 0.043478260869565216, 'private': 0.043478260869565216, 'party': 0.043478260869565216, 'addresses': 0.08695652173913043, 'phone': 0.043478260869565216, 'numbers': 0.17391304347826086, 'email': 0.043478260869565216, 'number': 0.043478260869565216, 'feature': 0.043478260869565216, 'personal': 0.043478260869565216, 'document': 0.043478260869565216, 'e.g.': 0.043478260869565216, 'National': 0.043478260869565216, 'Insurance': 0.043478260869565216, 'passport': 0.043478260869565216, 'credit': 0.043478260869565216, 'card': 0.043478260869565216, 'infringe': 0.043478260869565216, 'copyright': 0.043478260869565216, 'trade': 0.043478260869565216, 'mark': 0.043478260869565216, 'intellectual': 0.043478260869565216, 'property': 0.043478260869565216, 'privacy': 0.043478260869565216, 'rights': 0.043478260869565216, 'defamatory': 0.043478260869565216, 'obscene': 0.043478260869565216, 'offensive': 0.043478260869565216, 'pornographic': 0.043478260869565216, 'hateful': 0.043478260869565216, 'inflammatory': 0.043478260869565216, 'constitute': 0.043478260869565216, 'encourage': 0.043478260869565216, 'provide': 0.13043478260869565, 'instructions': 0.043478260869565216, 'criminal': 0.043478260869565216, 'offence': 0.043478260869565216, 'dangerous': 0.043478260869565216, 'activities': 0.043478260869565216, 'self': 0.043478260869565216, 'harm': 0.13043478260869565, 'deliberately': 0.043478260869565216, 'designed': 0.043478260869565216, 'provoke': 0.043478260869565216, 'antagonise': 0.043478260869565216, 'people': 0.08695652173913043, 'especially': 0.043478260869565216, 'trolling': 0.043478260869565216, 'bullying': 0.043478260869565216, 'intended': 0.043478260869565216, 'hurt': 0.043478260869565216, 'scare': 0.043478260869565216, 'distress': 0.043478260869565216, 'embarrass': 0.043478260869565216, 'upset': 0.043478260869565216, 'contains': 0.043478260869565216, 'threat': 0.043478260869565216, 'kind': 0.043478260869565216, 'threats': 0.043478260869565216, 'physical': 0.043478260869565216, 'racist': 0.043478260869565216, 'discriminatory': 0.043478260869565216, 'basis': 0.043478260869565216, 'gender': 0.043478260869565216, 'sexuality': 0.043478260869565216, 'answers': 0.043478260869565216, 'responses': 0.043478260869565216, 'comments': 0.043478260869565216, 'opinions': 0.043478260869565216, 'analysis': 0.08695652173913043, 'recommendations': 0.043478260869565216, 'properly': 0.043478260869565216, 'licensed': 0.043478260869565216, 'qualified': 0.043478260869565216, 'judgment': 0.043478260869565216, 'objectionable': 0.08695652173913043, 'restricts': 0.043478260869565216, 'inhibits': 0.043478260869565216, 'expose': 0.043478260869565216, 'liability': 0.043478260869565216, 'type': 0.043478260869565216, 'addition': 0.043478260869565216, 'times': 0.043478260869565216, 'compliant': 0.043478260869565216, 'Community': 0.08695652173913043, 'Guidelines': 0.08695652173913043, 'time': 0.043478260869565216, 'prior': 0.043478260869565216, 'notice': 0.043478260869565216, 'remove': 0.08695652173913043, 'disable': 0.08695652173913043, 'reason': 0.08695652173913043, 'reasons': 0.043478260869565216, 'include': 0.043478260869565216, 'finding': 0.043478260869565216, 'violation': 0.043478260869565216, 'systems': 0.043478260869565216, 'analyze': 0.043478260869565216, 'personally': 0.043478260869565216, 'relevant': 0.043478260869565216, 'features': 0.043478260869565216, 'customized': 0.043478260869565216, 'search': 0.043478260869565216, 'results': 0.043478260869565216, 'tailored': 0.043478260869565216, 'malware': 0.043478260869565216, 'detection': 0.043478260869565216, 'occurs': 0.043478260869565216, 'sent': 0.043478260869565216, 'received': 0.043478260869565216, 'stored': 0.043478260869565216}\n"
          ]
        }
      ]
    },
    {
      "cell_type": "code",
      "source": [
        "sentence_tokens = [sent for sent in doc.sents]\n",
        "print(sentence_tokens)"
      ],
      "metadata": {
        "colab": {
          "base_uri": "https://localhost:8080/"
        },
        "id": "Bovsv1ILyv4l",
        "outputId": "65f2df94-cb1a-4cd0-ef9c-d84f4345dbab"
      },
      "execution_count": null,
      "outputs": [
        {
          "output_type": "stream",
          "name": "stdout",
          "text": [
            "[\n",
            "Your access to and use of the Services is subject to these Terms and all applicable laws and regulations., You may not:\n",
            "\n",
            "access or use the Services if you are not fully able and legally competent to agree to these Terms;\n",
            "make unauthorised copies, modify, adapt, translate, reverse engineer, disassemble, decompile or create any derivative works of the Services or any content included therein, including any files, tables or documentation (or any portion thereof) or determine or attempt to determine any source code, algorithms, methods or techniques embodied by the Services or any derivative works thereof;\n",
            "distribute, license, transfer, or sell, in whole or in part, any of the Services or any derivative works thereof;\n",
            "market, rent or lease the Services for a fee or charge, or use the Services to advertise or perform any commercial solicitation;\n",
            "use the Services, without our express written consent, for any commercial or unauthorized purpose, including communicating or facilitating any commercial advertisement or solicitation or spamming;\n",
            "interfere with or attempt to interfere with the proper working of the Services, disrupt our website or any networks connected to the Services, or bypass any measures we may use to prevent or restrict access to the Services;\n",
            "incorporate the Services or any portion thereof into any other program or product., In such case, we reserve the right to refuse service, terminate accounts or limit access to the Services in our sole discretion;\n",
            "use automated scripts to collect information from or otherwise interact with the Services;\n",
            "impersonate any person or entity, or falsely state or otherwise misrepresent you or your affiliation with any person or entity, including giving the impression that any content you upload, post, transmit, distribute or otherwise make available emanates from the Services;\n",
            "intimidate or harass another, or promote sexually explicit material, violence or discrimination based on race, sex, religion, nationality, disability, sexual orientation or age;\n",
            "use or attempt to use another’s account, service or system without authorisation from TikTok, or create a false identity on the Services;\n",
            "use the Services in a manner that may create a conflict of interest or undermine the purposes of the Services, such as trading reviews with other users or writing or soliciting fake reviews;\n",
            "use the Services to upload, transmit, distribute, store or otherwise make available in any way: files that contain viruses, trojans, worms, logic bombs or other material that is malicious or technologically harmful; any unsolicited or unauthorised advertising, solicitations, promotional materials, “junk mail,” “spam,” “chain letters,” “pyramid schemes,” or any other prohibited form of solicitation; any private information of any third party, including addresses, phone numbers, email addresses, number and feature in the personal identity document (e.g., National Insurance numbers, passport numbers) or credit card numbers; any material which does or may infringe any copyright, trade mark or other intellectual property or privacy rights of any other person; any material which is defamatory of any person, obscene, offensive, pornographic, hateful or inflammatory; any material that would constitute, encourage or provide instructions for a criminal offence, dangerous activities or self-harm; any material that is deliberately designed to provoke or antagonise people, especially trolling and bullying, or is intended to harass, harm, hurt, scare, distress, embarrass or upset people; any material that contains a threat of any kind, including threats of physical violence; any material that is racist or discriminatory, including discrimination on the basis of someone’s race, religion, age, gender, disability or sexuality;\n",
            "any answers, responses, comments, opinions, analysis or recommendations that you are not properly licensed or otherwise qualified to provide; or\n",
            "material that, in the sole judgment of TikTok, is objectionable or which restricts or inhibits any other person from using the Services, or which may expose TikTok, the Services or its users to any harm or liability of any type.\n",
            ", In addition to the above, your access to and use of the Services must, at all times, be compliant with our Community Guidelines.\n",
            "\n",
            ", We reserve the right, at any time and without prior notice, to remove or disable access to content at our discretion for any reason or no reason., Some of the reasons we may remove or disable access to content may include finding the content objectionable, in violation of these Terms or our Community Guidelines, or otherwise harmful to the Services or our users., Our automated systems analyze your content to provide you personally relevant product features, such as customized search results, tailored advertising, and spam and malware detection., This analysis occurs as the content is sent, received, and when it is stored.\n",
            "]\n"
          ]
        }
      ]
    },
    {
      "cell_type": "code",
      "source": [
        "sentence_scores = {}\n",
        "for sent in sentence_tokens:\n",
        "  for word in sent:\n",
        "    if word.text.lower() in word_frequencies.keys():\n",
        "      if sent not in sentence_scores.keys():\n",
        "        sentence_scores[sent] = word_frequencies[word.text.lower()]\n",
        "      else:\n",
        "        sentence_scores[sent] += word_frequencies[word.text.lower()]"
      ],
      "metadata": {
        "id": "gYiN4B7uzIJI"
      },
      "execution_count": null,
      "outputs": []
    },
    {
      "cell_type": "code",
      "source": [
        "sentence_scores"
      ],
      "metadata": {
        "colab": {
          "base_uri": "https://localhost:8080/"
        },
        "id": "M_Jz29yNz9DB",
        "outputId": "6ad8c66e-3448-4e6e-99fb-cc44ec57c910"
      },
      "execution_count": null,
      "outputs": [
        {
          "output_type": "execute_result",
          "data": {
            "text/plain": [
              "{\n",
              " Your access to and use of the Services is subject to these Terms and all applicable laws and regulations.: 0.9565217391304347,\n",
              " You may not:\n",
              " \n",
              " access or use the Services if you are not fully able and legally competent to agree to these Terms;\n",
              " make unauthorised copies, modify, adapt, translate, reverse engineer, disassemble, decompile or create any derivative works of the Services or any content included therein, including any files, tables or documentation (or any portion thereof) or determine or attempt to determine any source code, algorithms, methods or techniques embodied by the Services or any derivative works thereof;\n",
              " distribute, license, transfer, or sell, in whole or in part, any of the Services or any derivative works thereof;\n",
              " market, rent or lease the Services for a fee or charge, or use the Services to advertise or perform any commercial solicitation;\n",
              " use the Services, without our express written consent, for any commercial or unauthorized purpose, including communicating or facilitating any commercial advertisement or solicitation or spamming;\n",
              " interfere with or attempt to interfere with the proper working of the Services, disrupt our website or any networks connected to the Services, or bypass any measures we may use to prevent or restrict access to the Services;\n",
              " incorporate the Services or any portion thereof into any other program or product.: 9.173913043478265,\n",
              " In such case, we reserve the right to refuse service, terminate accounts or limit access to the Services in our sole discretion;\n",
              " use automated scripts to collect information from or otherwise interact with the Services;\n",
              " impersonate any person or entity, or falsely state or otherwise misrepresent you or your affiliation with any person or entity, including giving the impression that any content you upload, post, transmit, distribute or otherwise make available emanates from the Services;\n",
              " intimidate or harass another, or promote sexually explicit material, violence or discrimination based on race, sex, religion, nationality, disability, sexual orientation or age;\n",
              " use or attempt to use another’s account, service or system without authorisation from TikTok, or create a false identity on the Services;\n",
              " use the Services in a manner that may create a conflict of interest or undermine the purposes of the Services, such as trading reviews with other users or writing or soliciting fake reviews;\n",
              " use the Services to upload, transmit, distribute, store or otherwise make available in any way: files that contain viruses, trojans, worms, logic bombs or other material that is malicious or technologically harmful; any unsolicited or unauthorised advertising, solicitations, promotional materials, “junk mail,” “spam,” “chain letters,” “pyramid schemes,” or any other prohibited form of solicitation; any private information of any third party, including addresses, phone numbers, email addresses, number and feature in the personal identity document (e.g., National Insurance numbers, passport numbers) or credit card numbers; any material which does or may infringe any copyright, trade mark or other intellectual property or privacy rights of any other person; any material which is defamatory of any person, obscene, offensive, pornographic, hateful or inflammatory; any material that would constitute, encourage or provide instructions for a criminal offence, dangerous activities or self-harm; any material that is deliberately designed to provoke or antagonise people, especially trolling and bullying, or is intended to harass, harm, hurt, scare, distress, embarrass or upset people; any material that contains a threat of any kind, including threats of physical violence; any material that is racist or discriminatory, including discrimination on the basis of someone’s race, religion, age, gender, disability or sexuality;\n",
              " any answers, responses, comments, opinions, analysis or recommendations that you are not properly licensed or otherwise qualified to provide; or\n",
              " material that, in the sole judgment of TikTok, is objectionable or which restricts or inhibits any other person from using the Services, or which may expose TikTok, the Services or its users to any harm or liability of any type.: 22.260869565217405,\n",
              " In addition to the above, your access to and use of the Services must, at all times, be compliant with our Community Guidelines.\n",
              " : 1.0,\n",
              " We reserve the right, at any time and without prior notice, to remove or disable access to content at our discretion for any reason or no reason.: 1.3478260869565215,\n",
              " Some of the reasons we may remove or disable access to content may include finding the content objectionable, in violation of these Terms or our Community Guidelines, or otherwise harmful to the Services or our users.: 1.5652173913043477,\n",
              " Our automated systems analyze your content to provide you personally relevant product features, such as customized search results, tailored advertising, and spam and malware detection.: 1.260869565217391,\n",
              " This analysis occurs as the content is sent, received, and when it is stored.: 0.5652173913043478}"
            ]
          },
          "metadata": {},
          "execution_count": 17
        }
      ]
    },
    {
      "cell_type": "code",
      "source": [
        "from heapq import nlargest "
      ],
      "metadata": {
        "id": "ABksod9S0IzH"
      },
      "execution_count": null,
      "outputs": []
    },
    {
      "cell_type": "code",
      "source": [
        "select_length = int(len(sentence_tokens)*0.3)\n",
        "select_length"
      ],
      "metadata": {
        "colab": {
          "base_uri": "https://localhost:8080/"
        },
        "id": "HLjlieVM0SVB",
        "outputId": "83c94699-0b87-4195-c9eb-9bbe2468adaa"
      },
      "execution_count": null,
      "outputs": [
        {
          "output_type": "execute_result",
          "data": {
            "text/plain": [
              "2"
            ]
          },
          "metadata": {},
          "execution_count": 19
        }
      ]
    },
    {
      "cell_type": "code",
      "source": [
        "summary = nlargest(select_length, sentence_scores, key = sentence_scores.get)"
      ],
      "metadata": {
        "id": "1Gijcda00g9C"
      },
      "execution_count": null,
      "outputs": []
    },
    {
      "cell_type": "code",
      "source": [
        "summary"
      ],
      "metadata": {
        "colab": {
          "base_uri": "https://localhost:8080/"
        },
        "id": "_qfjpYjp1WYx",
        "outputId": "71fb52d3-86d9-4321-ae80-03a107a87454"
      },
      "execution_count": null,
      "outputs": [
        {
          "output_type": "execute_result",
          "data": {
            "text/plain": [
              "[In such case, we reserve the right to refuse service, terminate accounts or limit access to the Services in our sole discretion;\n",
              " use automated scripts to collect information from or otherwise interact with the Services;\n",
              " impersonate any person or entity, or falsely state or otherwise misrepresent you or your affiliation with any person or entity, including giving the impression that any content you upload, post, transmit, distribute or otherwise make available emanates from the Services;\n",
              " intimidate or harass another, or promote sexually explicit material, violence or discrimination based on race, sex, religion, nationality, disability, sexual orientation or age;\n",
              " use or attempt to use another’s account, service or system without authorisation from TikTok, or create a false identity on the Services;\n",
              " use the Services in a manner that may create a conflict of interest or undermine the purposes of the Services, such as trading reviews with other users or writing or soliciting fake reviews;\n",
              " use the Services to upload, transmit, distribute, store or otherwise make available in any way: files that contain viruses, trojans, worms, logic bombs or other material that is malicious or technologically harmful; any unsolicited or unauthorised advertising, solicitations, promotional materials, “junk mail,” “spam,” “chain letters,” “pyramid schemes,” or any other prohibited form of solicitation; any private information of any third party, including addresses, phone numbers, email addresses, number and feature in the personal identity document (e.g., National Insurance numbers, passport numbers) or credit card numbers; any material which does or may infringe any copyright, trade mark or other intellectual property or privacy rights of any other person; any material which is defamatory of any person, obscene, offensive, pornographic, hateful or inflammatory; any material that would constitute, encourage or provide instructions for a criminal offence, dangerous activities or self-harm; any material that is deliberately designed to provoke or antagonise people, especially trolling and bullying, or is intended to harass, harm, hurt, scare, distress, embarrass or upset people; any material that contains a threat of any kind, including threats of physical violence; any material that is racist or discriminatory, including discrimination on the basis of someone’s race, religion, age, gender, disability or sexuality;\n",
              " any answers, responses, comments, opinions, analysis or recommendations that you are not properly licensed or otherwise qualified to provide; or\n",
              " material that, in the sole judgment of TikTok, is objectionable or which restricts or inhibits any other person from using the Services, or which may expose TikTok, the Services or its users to any harm or liability of any type.,\n",
              " You may not:\n",
              " \n",
              " access or use the Services if you are not fully able and legally competent to agree to these Terms;\n",
              " make unauthorised copies, modify, adapt, translate, reverse engineer, disassemble, decompile or create any derivative works of the Services or any content included therein, including any files, tables or documentation (or any portion thereof) or determine or attempt to determine any source code, algorithms, methods or techniques embodied by the Services or any derivative works thereof;\n",
              " distribute, license, transfer, or sell, in whole or in part, any of the Services or any derivative works thereof;\n",
              " market, rent or lease the Services for a fee or charge, or use the Services to advertise or perform any commercial solicitation;\n",
              " use the Services, without our express written consent, for any commercial or unauthorized purpose, including communicating or facilitating any commercial advertisement or solicitation or spamming;\n",
              " interfere with or attempt to interfere with the proper working of the Services, disrupt our website or any networks connected to the Services, or bypass any measures we may use to prevent or restrict access to the Services;\n",
              " incorporate the Services or any portion thereof into any other program or product.]"
            ]
          },
          "metadata": {},
          "execution_count": 22
        }
      ]
    },
    {
      "cell_type": "code",
      "source": [
        "final_summary = [word.text for word in summary]"
      ],
      "metadata": {
        "id": "zd_G8jFq1fpm"
      },
      "execution_count": null,
      "outputs": []
    },
    {
      "cell_type": "code",
      "source": [
        "summary = ' '.join(final_summary)"
      ],
      "metadata": {
        "id": "vOlAsTRT1q4Q"
      },
      "execution_count": null,
      "outputs": []
    },
    {
      "cell_type": "code",
      "source": [
        "print(text)"
      ],
      "metadata": {
        "colab": {
          "base_uri": "https://localhost:8080/"
        },
        "id": "1FlQO2vy11E_",
        "outputId": "a24722ed-8378-4ffd-a6e6-4bbbea02936f"
      },
      "execution_count": null,
      "outputs": [
        {
          "output_type": "stream",
          "name": "stdout",
          "text": [
            "\n",
            "Your access to and use of the Services is subject to these Terms and all applicable laws and regulations. You may not:\n",
            "\n",
            "access or use the Services if you are not fully able and legally competent to agree to these Terms;\n",
            "make unauthorised copies, modify, adapt, translate, reverse engineer, disassemble, decompile or create any derivative works of the Services or any content included therein, including any files, tables or documentation (or any portion thereof) or determine or attempt to determine any source code, algorithms, methods or techniques embodied by the Services or any derivative works thereof;\n",
            "distribute, license, transfer, or sell, in whole or in part, any of the Services or any derivative works thereof;\n",
            "market, rent or lease the Services for a fee or charge, or use the Services to advertise or perform any commercial solicitation;\n",
            "use the Services, without our express written consent, for any commercial or unauthorized purpose, including communicating or facilitating any commercial advertisement or solicitation or spamming;\n",
            "interfere with or attempt to interfere with the proper working of the Services, disrupt our website or any networks connected to the Services, or bypass any measures we may use to prevent or restrict access to the Services;\n",
            "incorporate the Services or any portion thereof into any other program or product. In such case, we reserve the right to refuse service, terminate accounts or limit access to the Services in our sole discretion;\n",
            "use automated scripts to collect information from or otherwise interact with the Services;\n",
            "impersonate any person or entity, or falsely state or otherwise misrepresent you or your affiliation with any person or entity, including giving the impression that any content you upload, post, transmit, distribute or otherwise make available emanates from the Services;\n",
            "intimidate or harass another, or promote sexually explicit material, violence or discrimination based on race, sex, religion, nationality, disability, sexual orientation or age;\n",
            "use or attempt to use another’s account, service or system without authorisation from TikTok, or create a false identity on the Services;\n",
            "use the Services in a manner that may create a conflict of interest or undermine the purposes of the Services, such as trading reviews with other users or writing or soliciting fake reviews;\n",
            "use the Services to upload, transmit, distribute, store or otherwise make available in any way: files that contain viruses, trojans, worms, logic bombs or other material that is malicious or technologically harmful; any unsolicited or unauthorised advertising, solicitations, promotional materials, “junk mail,” “spam,” “chain letters,” “pyramid schemes,” or any other prohibited form of solicitation; any private information of any third party, including addresses, phone numbers, email addresses, number and feature in the personal identity document (e.g., National Insurance numbers, passport numbers) or credit card numbers; any material which does or may infringe any copyright, trade mark or other intellectual property or privacy rights of any other person; any material which is defamatory of any person, obscene, offensive, pornographic, hateful or inflammatory; any material that would constitute, encourage or provide instructions for a criminal offence, dangerous activities or self-harm; any material that is deliberately designed to provoke or antagonise people, especially trolling and bullying, or is intended to harass, harm, hurt, scare, distress, embarrass or upset people; any material that contains a threat of any kind, including threats of physical violence; any material that is racist or discriminatory, including discrimination on the basis of someone’s race, religion, age, gender, disability or sexuality;\n",
            "any answers, responses, comments, opinions, analysis or recommendations that you are not properly licensed or otherwise qualified to provide; or\n",
            "material that, in the sole judgment of TikTok, is objectionable or which restricts or inhibits any other person from using the Services, or which may expose TikTok, the Services or its users to any harm or liability of any type.\n",
            "In addition to the above, your access to and use of the Services must, at all times, be compliant with our Community Guidelines.\n",
            "\n",
            "We reserve the right, at any time and without prior notice, to remove or disable access to content at our discretion for any reason or no reason. Some of the reasons we may remove or disable access to content may include finding the content objectionable, in violation of these Terms or our Community Guidelines, or otherwise harmful to the Services or our users. Our automated systems analyze your content to provide you personally relevant product features, such as customized search results, tailored advertising, and spam and malware detection. This analysis occurs as the content is sent, received, and when it is stored.\n",
            "\n"
          ]
        }
      ]
    },
    {
      "cell_type": "code",
      "source": [
        "print(summary)"
      ],
      "metadata": {
        "id": "F6x-9qRZ16ln",
        "outputId": "08bb6f7d-0709-4ff3-fcda-9311addcc7c2",
        "colab": {
          "base_uri": "https://localhost:8080/"
        }
      },
      "execution_count": null,
      "outputs": [
        {
          "output_type": "stream",
          "name": "stdout",
          "text": [
            "In such case, we reserve the right to refuse service, terminate accounts or limit access to the Services in our sole discretion;\n",
            "use automated scripts to collect information from or otherwise interact with the Services;\n",
            "impersonate any person or entity, or falsely state or otherwise misrepresent you or your affiliation with any person or entity, including giving the impression that any content you upload, post, transmit, distribute or otherwise make available emanates from the Services;\n",
            "intimidate or harass another, or promote sexually explicit material, violence or discrimination based on race, sex, religion, nationality, disability, sexual orientation or age;\n",
            "use or attempt to use another’s account, service or system without authorisation from TikTok, or create a false identity on the Services;\n",
            "use the Services in a manner that may create a conflict of interest or undermine the purposes of the Services, such as trading reviews with other users or writing or soliciting fake reviews;\n",
            "use the Services to upload, transmit, distribute, store or otherwise make available in any way: files that contain viruses, trojans, worms, logic bombs or other material that is malicious or technologically harmful; any unsolicited or unauthorised advertising, solicitations, promotional materials, “junk mail,” “spam,” “chain letters,” “pyramid schemes,” or any other prohibited form of solicitation; any private information of any third party, including addresses, phone numbers, email addresses, number and feature in the personal identity document (e.g., National Insurance numbers, passport numbers) or credit card numbers; any material which does or may infringe any copyright, trade mark or other intellectual property or privacy rights of any other person; any material which is defamatory of any person, obscene, offensive, pornographic, hateful or inflammatory; any material that would constitute, encourage or provide instructions for a criminal offence, dangerous activities or self-harm; any material that is deliberately designed to provoke or antagonise people, especially trolling and bullying, or is intended to harass, harm, hurt, scare, distress, embarrass or upset people; any material that contains a threat of any kind, including threats of physical violence; any material that is racist or discriminatory, including discrimination on the basis of someone’s race, religion, age, gender, disability or sexuality;\n",
            "any answers, responses, comments, opinions, analysis or recommendations that you are not properly licensed or otherwise qualified to provide; or\n",
            "material that, in the sole judgment of TikTok, is objectionable or which restricts or inhibits any other person from using the Services, or which may expose TikTok, the Services or its users to any harm or liability of any type.\n",
            " You may not:\n",
            "\n",
            "access or use the Services if you are not fully able and legally competent to agree to these Terms;\n",
            "make unauthorised copies, modify, adapt, translate, reverse engineer, disassemble, decompile or create any derivative works of the Services or any content included therein, including any files, tables or documentation (or any portion thereof) or determine or attempt to determine any source code, algorithms, methods or techniques embodied by the Services or any derivative works thereof;\n",
            "distribute, license, transfer, or sell, in whole or in part, any of the Services or any derivative works thereof;\n",
            "market, rent or lease the Services for a fee or charge, or use the Services to advertise or perform any commercial solicitation;\n",
            "use the Services, without our express written consent, for any commercial or unauthorized purpose, including communicating or facilitating any commercial advertisement or solicitation or spamming;\n",
            "interfere with or attempt to interfere with the proper working of the Services, disrupt our website or any networks connected to the Services, or bypass any measures we may use to prevent or restrict access to the Services;\n",
            "incorporate the Services or any portion thereof into any other program or product.\n"
          ]
        }
      ]
    }
  ]
}